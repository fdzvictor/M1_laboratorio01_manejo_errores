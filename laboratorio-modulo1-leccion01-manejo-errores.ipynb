{
 "cells": [
  {
   "cell_type": "markdown",
   "metadata": {},
   "source": [
    "\n",
    "<div style=\"text-align: center;\">\n",
    "  <img src=\"https://github.com/Hack-io-Data/Imagenes/blob/main/01-LogosHackio/logo_celeste@4x.png?raw=true\" alt=\"esquema\" />\n",
    "</div>\n"
   ]
  },
  {
   "cell_type": "markdown",
   "metadata": {},
   "source": [
    "# Laboratorio de Python: manejo de errores."
   ]
  },
  {
   "cell_type": "markdown",
   "metadata": {},
   "source": [
    "## Ejercicio 1: División con manejo de excepciones\n",
    "\n",
    "Escribe un programa que pida al usuario dos números e intente dividirlos. Si el usuario ingresa un valor no numérico o intenta dividir por cero, maneja esas excepciones de manera adecuada. Asegúrate de mostrar un mensaje indicando si la división fue exitosa o no.\n"
   ]
  },
  {
   "cell_type": "code",
   "execution_count": 4,
   "metadata": {},
   "outputs": [],
   "source": [
    "def dividenumero (n,j):\n",
    " \"\"\"Esta función divide dos números\n",
    "\n",
    "    Args:\n",
    "        n (_type_): int\n",
    "        j (_type_): int\n",
    "    Returns:\n",
    "    la división de dos números, si  se divide por un caracter no adecuado o cero devuelve un mensaje\n",
    "    \"\"\"\n",
    " try:\n",
    "  resultado = n / j\n",
    "  print (resultado)\n",
    "\n",
    " except:\n",
    "  print(\"La división no ha sido exitosa\")\n"
   ]
  },
  {
   "cell_type": "code",
   "execution_count": 8,
   "metadata": {},
   "outputs": [
    {
     "name": "stdout",
     "output_type": "stream",
     "text": [
      "La división no ha sido exitosa\n"
     ]
    }
   ],
   "source": [
    "dividenumero (1,\"a\")"
   ]
  },
  {
   "cell_type": "markdown",
   "metadata": {},
   "source": [
    "## Ejercicio 2: Acceso a archivos\n",
    "\n",
    "Escribe un programa que intente abrir un archivo llamado \"datos.txt\". Si el archivo no existe, captura la excepción y muestra un mensaje de error. Asegúrate de cerrar el archivo correctamente en la sección `finally`.\n"
   ]
  },
  {
   "cell_type": "code",
   "execution_count": 60,
   "metadata": {},
   "outputs": [
    {
     "name": "stdout",
     "output_type": "stream",
     "text": [
      "no existe dicho archivo\n"
     ]
    },
    {
     "ename": "NameError",
     "evalue": "name 'archivo' is not defined",
     "output_type": "error",
     "traceback": [
      "\u001b[1;31m---------------------------------------------------------------------------\u001b[0m",
      "\u001b[1;31mNameError\u001b[0m                                 Traceback (most recent call last)",
      "Cell \u001b[1;32mIn[60], line 7\u001b[0m\n\u001b[0;32m      4\u001b[0m  \u001b[38;5;28mprint\u001b[39m(\u001b[38;5;124m\"\u001b[39m\u001b[38;5;124mno existe dicho archivo\u001b[39m\u001b[38;5;124m\"\u001b[39m)\n\u001b[0;32m      6\u001b[0m \u001b[38;5;28;01mfinally\u001b[39;00m:\n\u001b[1;32m----> 7\u001b[0m  archivo\u001b[38;5;241m.\u001b[39mclose()\n",
      "\u001b[1;31mNameError\u001b[0m: name 'archivo' is not defined"
     ]
    }
   ],
   "source": [
    "try:\n",
    " archivo =  open (\"datos.txt\")\n",
    "except FileNotFoundError:\n",
    " print(\"no existe dicho archivo\")\n",
    "\n",
    "finally:\n",
    " archivo.close()\n",
    "\n"
   ]
  },
  {
   "cell_type": "markdown",
   "metadata": {},
   "source": [
    "## Ejercicio 3: Conversión de cadenas a enteros\n",
    "\n",
    "Escribe un programa que pida una lista de números separados por comas y convierta cada valor a un número entero. Maneja las excepciones para valores que no sean convertibles y asegúrate de informar si la conversión fue exitosa o no.\n"
   ]
  },
  {
   "cell_type": "code",
   "execution_count": 110,
   "metadata": {},
   "outputs": [
    {
     "name": "stdout",
     "output_type": "stream",
     "text": [
      "a no se ha podido imprimir\n",
      "La lista es completada es [1, 3, 88, 5, 39, 1]\n"
     ]
    }
   ],
   "source": [
    "lista = [1,3,88,5,39,\"1\",\"a\",]\n",
    "lista2 = []\n",
    "for n in lista:\n",
    " try:\n",
    "  lista2.append (int(n))\n",
    " except ValueError:\n",
    "  print (f\"{n} no se ha podido imprimir\")\n",
    "\n",
    "print (f\"La lista es completada es {lista2}\")"
   ]
  },
  {
   "cell_type": "markdown",
   "metadata": {},
   "source": [
    "#### Ejercicio 4: Cálculo del promedio con manejo de excepciones\n",
    "\n",
    "Escribe una función que reciba una lista de números y calcule su promedio. Si la lista está vacía, lanza una excepción personalizada y maneja el error adecuadamente.\n"
   ]
  },
  {
   "cell_type": "code",
   "execution_count": 32,
   "metadata": {},
   "outputs": [],
   "source": [
    "def lista_prom(listap):\n",
    "   try:\n",
    "     print(f\"el promedio de la lista es {sum(listap)/(len(listap))}\")\n",
    "   except ZeroDivisionError:\n",
    "    print (\"¡La lista está vacía!\")\n",
    "     "
   ]
  },
  {
   "cell_type": "code",
   "execution_count": 33,
   "metadata": {},
   "outputs": [
    {
     "name": "stdout",
     "output_type": "stream",
     "text": [
      "el promedio de la lista es 7.5\n"
     ]
    }
   ],
   "source": [
    "lista_prom([5,6,7,8,9,10])\n",
    "\n",
    " \n"
   ]
  },
  {
   "cell_type": "markdown",
   "metadata": {},
   "source": [
    "#### Ejercicio 5: Conversión segura de números\n",
    "\n",
    "Escribe un programa que convierta una cadena a número flotante e intente realizar una operación aritmética. Si la conversión falla, maneja la excepción y continúa con el flujo normal."
   ]
  },
  {
   "cell_type": "code",
   "execution_count": 120,
   "metadata": {},
   "outputs": [
    {
     "name": "stdout",
     "output_type": "stream",
     "text": [
      "k no se ha podido imprimir\n",
      "k no se ha podido imprimir\n",
      "La lista es completada es [3.0, 5.0, 7.0, 5.0]\n"
     ]
    }
   ],
   "source": [
    "string = \"3k5k75\"\n",
    "cadena = []\n",
    "flotante = []\n",
    "\n",
    "for i in string:\n",
    "  cadena.append(i)\n",
    "\n",
    "for x in cadena:\n",
    "  try:\n",
    "   flotante.append (float(x))\n",
    "  except ValueError:\n",
    "   print (f\"{x} no se ha podido imprimir\")\n",
    "   pass\n",
    "\n",
    "print (f\"La lista es completada es {flotante}\")\n",
    "\n",
    "  \n",
    "\n",
    "\n",
    "\n"
   ]
  },
  {
   "cell_type": "markdown",
   "metadata": {},
   "source": [
    "#### Ejercicio 6: Acceso a claves en diccionarios\n",
    "\n",
    "Escribe un programa que intente acceder a una clave específica en un diccionario. Si la clave no existe, maneja la excepción `KeyError` y muestra un mensaje indicando el problema."
   ]
  },
  {
   "cell_type": "code",
   "execution_count": 3,
   "metadata": {},
   "outputs": [
    {
     "name": "stdout",
     "output_type": "stream",
     "text": [
      "La fruta no existe en el diccionario\n"
     ]
    }
   ],
   "source": [
    "d = {\"manzanas\":7, \"plátanos\":8, \"zanahoria\":3}\n",
    "\n",
    "try:\n",
    " print (d[\"papaya\"])\n",
    "except KeyError:\n",
    " print(\"La fruta no existe en el diccionario\")\n",
    " pass\n",
    "\n",
    "#Revisar"
   ]
  },
  {
   "cell_type": "markdown",
   "metadata": {},
   "source": [
    "\n",
    "#### Ejercicio 7: Verificación de entradas de usuario\n",
    "\n",
    "Escribe un programa que pida al usuario que introduzca su edad. Si el usuario ingresa un valor no numérico o un valor fuera del rango esperado (por ejemplo, menor que 0 o mayor que 120), maneja las excepciones adecuadamente."
   ]
  },
  {
   "cell_type": "code",
   "execution_count": 124,
   "metadata": {},
   "outputs": [],
   "source": [
    "def edad (n):\n",
    "\n",
    " if edad not in range(1,120):\n",
    "    print(\"Tu edad tiene que estar entre 1 y 120\")\n",
    "    return ValueError\n",
    " if type(n) != int:\n",
    "    print(\"Tu edad tiene que ser un número entero\")\n",
    "    return ValueError\n",
    " \n",
    " "
   ]
  },
  {
   "cell_type": "code",
   "execution_count": 125,
   "metadata": {},
   "outputs": [
    {
     "name": "stdout",
     "output_type": "stream",
     "text": [
      "Tu edad tiene que estar entre 1 y 100\n"
     ]
    },
    {
     "data": {
      "text/plain": [
       "ValueError"
      ]
     },
     "execution_count": 125,
     "metadata": {},
     "output_type": "execute_result"
    }
   ],
   "source": [
    "edad(300)"
   ]
  },
  {
   "cell_type": "markdown",
   "metadata": {},
   "source": [
    "#### Ejercicio 8: Extracción de valores de una lista\n",
    "\n",
    "Escribe una función que intente acceder a un índice específico en una lista. Si el índice está fuera del rango, maneja la excepción `IndexError` y muestra un mensaje adecuado.\n"
   ]
  },
  {
   "cell_type": "code",
   "execution_count": 130,
   "metadata": {},
   "outputs": [],
   "source": [
    "def acceder_lista (lista, indice):\n",
    "    print(\"¿A qué índice quieres acceder?\")\n",
    "\n",
    "\n",
    "    try:\n",
    "     print (lista[indice])\n",
    "    except IndexError:\n",
    "     print (f\"Ese índice no existe, elige un número entre {range (1, len(lista))}\")  \n",
    "    \n",
    "    "
   ]
  },
  {
   "cell_type": "code",
   "execution_count": 131,
   "metadata": {},
   "outputs": [
    {
     "name": "stdout",
     "output_type": "stream",
     "text": [
      "¿A qué índice quieres acceder?\n",
      "Ese índice no existe, elige un número entre range(1, 3)\n"
     ]
    }
   ],
   "source": [
    "acceder_lista ([\"patata\", \"nabo\", \"chirimoya\"],8)\n",
    "\n"
   ]
  }
 ],
 "metadata": {
  "kernelspec": {
   "display_name": "contenido",
   "language": "python",
   "name": "python3"
  },
  "language_info": {
   "codemirror_mode": {
    "name": "ipython",
    "version": 3
   },
   "file_extension": ".py",
   "mimetype": "text/x-python",
   "name": "python",
   "nbconvert_exporter": "python",
   "pygments_lexer": "ipython3",
   "version": "3.11.7"
  }
 },
 "nbformat": 4,
 "nbformat_minor": 2
}
